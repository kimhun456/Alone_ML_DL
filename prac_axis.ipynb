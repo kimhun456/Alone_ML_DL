{
 "cells": [
  {
   "metadata": {
    "ExecuteTime": {
     "end_time": "2024-07-02T14:55:19.739636Z",
     "start_time": "2024-07-02T14:55:19.735243Z"
    }
   },
   "cell_type": "code",
   "source": [
    "import pandas as pd\n",
    "import numpy as np\n",
    "\n",
    "# 예제 데이터프레임 생성\n",
    "df = pd.DataFrame({\n",
    "    'A': [1, 2, 3],\n",
    "    'B': [4, 5, 6],\n",
    "    'C': [7, 8, 9]\n",
    "})"
   ],
   "id": "e0ab555fd2163476",
   "outputs": [],
   "execution_count": 2
  },
  {
   "metadata": {
    "ExecuteTime": {
     "end_time": "2024-07-02T14:55:19.912630Z",
     "start_time": "2024-07-02T14:55:19.907502Z"
    }
   },
   "cell_type": "code",
   "source": [
    "print(\"원본 데이터프레임:\")\n",
    "print(df)\n",
    "print()"
   ],
   "id": "b460b0160f0000bc",
   "outputs": [
    {
     "name": "stdout",
     "output_type": "stream",
     "text": [
      "원본 데이터프레임:\n",
      "   A  B  C\n",
      "0  1  4  7\n",
      "1  2  5  8\n",
      "2  3  6  9\n",
      "\n"
     ]
    }
   ],
   "execution_count": 3
  },
  {
   "metadata": {
    "ExecuteTime": {
     "end_time": "2024-07-02T14:55:20.048148Z",
     "start_time": "2024-07-02T14:55:20.042938Z"
    }
   },
   "cell_type": "code",
   "source": [
    "# 예제 1: sum() 함수\n",
    "print(\"axis=0으로 sum() 적용 (열 방향 합계):\")\n",
    "print(df.sum(axis=0))\n",
    "print()\n",
    "\n",
    "print(\"axis=1로 sum() 적용 (행 방향 합계):\")\n",
    "print(df.sum(axis=1))\n",
    "print()"
   ],
   "id": "d725415fb82d9a61",
   "outputs": [
    {
     "name": "stdout",
     "output_type": "stream",
     "text": [
      "axis=0으로 sum() 적용 (열 방향 합계):\n",
      "A     6\n",
      "B    15\n",
      "C    24\n",
      "dtype: int64\n",
      "\n",
      "axis=1로 sum() 적용 (행 방향 합계):\n",
      "0    12\n",
      "1    15\n",
      "2    18\n",
      "dtype: int64\n",
      "\n"
     ]
    }
   ],
   "execution_count": 4
  },
  {
   "metadata": {
    "ExecuteTime": {
     "end_time": "2024-07-02T14:55:20.243542Z",
     "start_time": "2024-07-02T14:55:20.235243Z"
    }
   },
   "cell_type": "code",
   "source": [
    "# 예제 2: drop() 함수\n",
    "print(\"axis=0으로 drop() 적용 (행 삭제):\")\n",
    "print(df.drop(0, axis=0))\n",
    "print()\n",
    "\n",
    "print(\"axis=1로 drop() 적용 (열 삭제):\")\n",
    "print(df.drop('A', axis=1))\n",
    "print()"
   ],
   "id": "ca98f123dda244f1",
   "outputs": [
    {
     "name": "stdout",
     "output_type": "stream",
     "text": [
      "axis=0으로 drop() 적용 (행 삭제):\n",
      "   A  B  C\n",
      "1  2  5  8\n",
      "2  3  6  9\n",
      "\n",
      "axis=1로 drop() 적용 (열 삭제):\n",
      "   B  C\n",
      "0  4  7\n",
      "1  5  8\n",
      "2  6  9\n",
      "\n"
     ]
    }
   ],
   "execution_count": 5
  },
  {
   "metadata": {
    "ExecuteTime": {
     "end_time": "2024-07-02T14:55:20.425642Z",
     "start_time": "2024-07-02T14:55:20.419862Z"
    }
   },
   "cell_type": "code",
   "source": [
    "# 예제 3: mean() 함수\n",
    "print(\"axis=0으로 mean() 적용 (열 방향 평균):\")\n",
    "print(df.mean(axis=0))\n",
    "print()\n",
    "\n",
    "print(\"axis=1로 mean() 적용 (행 방향 평균):\")\n",
    "print(df.mean(axis=1))"
   ],
   "id": "d15e9ccbadb49641",
   "outputs": [
    {
     "name": "stdout",
     "output_type": "stream",
     "text": [
      "axis=0으로 mean() 적용 (열 방향 평균):\n",
      "A    2.0\n",
      "B    5.0\n",
      "C    8.0\n",
      "dtype: float64\n",
      "\n",
      "axis=1로 mean() 적용 (행 방향 평균):\n",
      "0    4.0\n",
      "1    5.0\n",
      "2    6.0\n",
      "dtype: float64\n"
     ]
    }
   ],
   "execution_count": 6
  }
 ],
 "metadata": {
  "kernelspec": {
   "display_name": "Python 3",
   "language": "python",
   "name": "python3"
  },
  "language_info": {
   "codemirror_mode": {
    "name": "ipython",
    "version": 2
   },
   "file_extension": ".py",
   "mimetype": "text/x-python",
   "name": "python",
   "nbconvert_exporter": "python",
   "pygments_lexer": "ipython2",
   "version": "2.7.6"
  }
 },
 "nbformat": 4,
 "nbformat_minor": 5
}
